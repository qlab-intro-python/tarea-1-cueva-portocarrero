{
 "cells": [
  {
   "cell_type": "markdown",
   "metadata": {},
   "source": [
    "# **Tarea Nº 1**"
   ]
  },
  {
   "cell_type": "markdown",
   "metadata": {},
   "source": [
    "Curso:          Fundamentos de Programación en Python para Macroeconomía y Finanzas     \n",
    "Profesor:       Victor Fuentes Campos     "
   ]
  },
  {
   "cell_type": "markdown",
   "metadata": {},
   "source": [
    "- Fecha y hora de entrega: Jueves 4 de enero, 11:59pm\n",
    "- Agregue los nombres de las personas con las que discutió esta tarea: ____ Armando Paredes ______\n",
    "- Envíe su tarea haciendo el `push` de su código a su repo en GitHub Classroom: "
   ]
  },
  {
   "cell_type": "markdown",
   "metadata": {},
   "source": [
    "# 1. Git"
   ]
  },
  {
   "cell_type": "markdown",
   "metadata": {},
   "source": [
    "\n",
    "a. Commit, Push, Pull\n",
    "\n",
    "Instrucciones:\n",
    "1. Cada miembro del equipo debe clonar el repo de su tarea en su computadora\n",
    "1. Luego, en el branch master (`main`), el integrante Nº 1 cambia el nombre del archivo `.ipynb` a `tarea_1.ipynb`\n",
    "1. Usando GitHub Desktop, el integrante Nº 2 notará que hay cambios en el repo. Por lo tanto, hará el `pull` de la nueva versión del repo. Ahora ambos tiene el archivo con el nombre apropiado en sus computadoras\n",
    "\n",
    "*Este ejercicio se calificará directamente en GitHub*\n",
    "\n",
    "b. Merge conflicts (opcional)\n",
    "\n",
    "1. El integrante Nº 1 abre un branch nuevo `merge_conflict_practice_1`. En el archivo `tarea_1.ipynb` reemplazará \"Armando Paredes\" por su nombre. Luego, hará `commit`y `push` de a GitHub. (En Github Desktop se llama `publish`)\n",
    "1. El integrante Nº 2 abre un branch nuevo `merge_conflict_practice_2`. En el archivo `tarea_1.ipynb` reemplazará \"Armando Paredes\" por su nombre. Luego, hará `commit`y `push` de a GitHub. (En Github Desktop se llama `publish`)\n",
    "1. El integrante Nº 1 hará un `pull request`\n",
    "1. El integrante Nº 2 hará el `review` del `pull request`, aceptará los cambios de su compañero y hará `merge` del branch al `master`. ¡Listo, completaste tu primer pull request!\n",
    "1. El integrante Nº 2 hará un `pull request`\n",
    "1. El integrante Nº 1 hará el `review` del `pull request` y habrá un `merge conflict` poeque ambos están cambiando la misma línea de código. Ajuste el archivo y complete el `merge``\n",
    "Cambie de roles y fuerce un `merge conflict` con una sección diferente del archivo `tarea_1.ipynb` (Fecha de entrega, nombre del curso, etc.)\n",
    "1. Explique muy brevemente porque se generó el `merge conflict`"
   ]
  },
  {
   "cell_type": "markdown",
   "metadata": {},
   "source": [
    "*Respuesta: ______________________________*"
   ]
  },
  {
   "cell_type": "markdown",
   "metadata": {},
   "source": [
    "# 2. Variables"
   ]
  },
  {
   "cell_type": "markdown",
   "metadata": {},
   "source": [
    "Considere la siguiente información como punto de partida y complete los espacios en blanco"
   ]
  },
  {
   "cell_type": "code",
   "execution_count": 4,
   "metadata": {},
   "outputs": [],
   "source": [
    "monthly_savings = 10\n",
    "num_months = 12\n",
    "intro = \"Hello! How are you?\""
   ]
  },
  {
   "cell_type": "markdown",
   "metadata": {},
   "source": [
    "a. Calculate year_savings using monthly_savings and num_months\n"
   ]
  },
  {
   "cell_type": "code",
   "execution_count": 88,
   "metadata": {},
   "outputs": [
    {
     "name": "stdout",
     "output_type": "stream",
     "text": [
      "Yearly Savings: 120\n"
     ]
    }
   ],
   "source": [
    "# Calculate the product of monthly_savings and num_months\n",
    "year_savings = monthly_savings * num_months\n",
    "\n",
    "print(\"Yearly Savings:\", year_savings)"
   ]
  },
  {
   "cell_type": "markdown",
   "metadata": {},
   "source": [
    "b. Print the type of year_savings"
   ]
  },
  {
   "cell_type": "code",
   "execution_count": 89,
   "metadata": {},
   "outputs": [
    {
     "data": {
      "text/plain": [
       "int"
      ]
     },
     "execution_count": 89,
     "metadata": {},
     "output_type": "execute_result"
    }
   ],
   "source": [
    "# What do you think the resulting type will be? Find out by printing out the type of year_savings.\n",
    "type(year_savings)"
   ]
  },
  {
   "cell_type": "markdown",
   "metadata": {},
   "source": [
    "c. Assign sum of intro and intro to doubleintro"
   ]
  },
  {
   "cell_type": "code",
   "execution_count": 91,
   "metadata": {},
   "outputs": [],
   "source": [
    "# Calculate the sum of intro and intro and store the result in a new variable doubleintro.\n",
    "doubleintro = intro + intro"
   ]
  },
  {
   "cell_type": "markdown",
   "metadata": {},
   "source": [
    "d. Print out doubleintro"
   ]
  },
  {
   "cell_type": "code",
   "execution_count": 92,
   "metadata": {},
   "outputs": [
    {
     "name": "stdout",
     "output_type": "stream",
     "text": [
      "Double Intro: Hello! How are you?Hello! How are you?\n"
     ]
    }
   ],
   "source": [
    "# Print out doubleintro. Did you expect this?\n",
    "print(\"Double Intro:\", doubleintro)"
   ]
  },
  {
   "cell_type": "markdown",
   "metadata": {},
   "source": [
    "# 3. Lists"
   ]
  },
  {
   "cell_type": "markdown",
   "metadata": {},
   "source": [
    "Considere la siguiente información como punto de partida y complete los espacios en blanco"
   ]
  },
  {
   "cell_type": "code",
   "execution_count": 9,
   "metadata": {},
   "outputs": [],
   "source": [
    "import numpy as np\n",
    "f_list = [\"Brazil\", np.nan , np.nan, \"Austria\", \"Germany\", np.nan, \"Pakistan\", \"np.nan\", np.nan ]\n",
    "text1 = ['My', 'new', 'teacher', 'assistant', 'is', 'so', 'boring.']\n",
    "p1_list = [ 2 , 3, 4, 5 , 6 ]\n",
    "values1 = [ 86, 86, 85, 85, 85, 83, 23, 0, 84, 1, 91 ]\n",
    "last_and_name = [ \"CORNEJO SANCHEZ, CHRISTIAN SANTOS\", \"ORELLANA QUISPE, CRISTIAN NASSER\", \"MORALES CHOQUEHUANCA, ANGELICA KARINA\", \"GUIMARAY RIBEYRO, JOSE ROBERTO\", \"CAMACHO GAVIDIA, ABEL FERNANDO\", \"TINTAYA ORIHUELA, MEIR ALVARO\", \"CHAVEZ MARTINEZ, JOSELIN ALEXANDRA\", \"FIGUEROA MURO, LEONEL ARTURO\", \"GOMEZ CRIBILLERO, JOSE FELIPE\", \"PALOMINO SEGUÍN, AFRANIA\", \"LUZON CUEVA, BIANCA MARIETTE\", \"SUAÑA ZEGARRA, ADRIAN ANDRE\", \"SOTO POMACHAGUA, DORKAS YOMIRA JHERMY\", \"FIORENTINO MARTINEZ, LADY ALY\", \"LAMA MAVILA, HECTOR ANDRE\", \"MEZA HINOJO, GUSTAVO\", \"LOZADA MURILLO, PERSEO MARCELO\", \"ZAMBRANO JIMENEZ, MIGUEL ALONZO\", \"JACOBS LUQUE, NICOLAS\", \"VIDAL VIDAL, ROCIO GABRIELA\", \"TORRES ANICAMA, JANE CAMILA\", \"LOPEZ ESTRADA, MARIA ELISA\", \"BOYCO ORAMS, ALEJANDRO\", \"DIAZ BERROSPI, KARLINE ROSMELI\", \"RIEGA ESCALANTE, STEPHY ROSARIO\", \"LEVANO TORRES, VALERIA CECILIA\", \"ESQUIVES BRAVO, SEBASTIAN RENATO\", \"PEREZ GONZALES, JUAN CARLOS\", \"OTERO MAGUIÑA, MARIANA\", \"CLAVO CAMPOS, ANDREA BRIZETH\", \"AGUILAR GARCIA, ERICK JOSUE\", \"CALDAS VELASQUEZ, JOSUE DANIEL\", \"SALAS NUÑEZ BORJA, FABIO MANUEL\", \"PIZARRO VILLANES, FERNANDA NICOLLE\", \"QUILLATUPA MORALES, ANGELA ADELINA\", \"HUANCAYA IDONE, CESAR DANTE\", \"CALVO PORTOCARRERO, GABRIELA ISABEL\", \"IBAÑEZ ABANTO, ANGEL MAURICIO\", \"MELÉNDEZ APONTE, JUAN DIEGO\", \"CRISTIAN SERRANO, ARONE\", \"HINOJOSA CAHUANA, PERCY ALBERTH\", \"ANGLAS GARCÍA, KEVIN ARTURO\", \"ALDAVE ACOSTA, CESAR ERNESTO\", \"NÚÑEZ HUAMÁN, CÉSAR AGUSTO\", \"OBREGON HUAMAN, DIANA EDITH\", \"SOTO PACHERRES, RODRIGO FRANCO\", \"INGARUCA RIVERA, GRETTEL ALEXANDRA\", \"ROJAS HUAMAN, ROSA ANGELA\", \"NEYRA SALAS, DANTE OMAR\", \"HUERTA ESPINOZA, YAJAIRA ALEXANDRA\", \"HUANCA MARTINEZ, JORGE ALBERTO\", \"FLORES CADILLO, ALEXIS\" ]\n",
    "emails = [\"cscornejo@pucp.edu.pe\", \"orellana.cn@pucp.edu.pe\", \"karina.morales@pucp.edu.pe\", \"a20083223@pucp.pe\", \"abel.camacho@pucp.pe\", \"mtintaya@pucp.edu.pe\", \"joselin.chavez@pucp.edu.pe\", \"a20105737@pucp.pe\", \"jfgomezc@pucp.pe\", \"afrania.palomino@pucp.pe\", \"luzon.bianca@pucp.pe\", \"adrian.suanaz@pucp.pe\", \"soto.y@pucp.edu.pe\", \"a20132766@pucp.pe\", \"andre.lama@pucp.edu.pe\", \"gustavo.meza@pucp.edu.pe\", \"pmlozada@pucp.edu.pe\", \"m.zambranoj@pucp.edu.pe\", \"nicolas.jacobs@pucp.edu.pe\", \"gvidal@pucp.edu.pe\", \"jane.torres@pucp.edu.pe\", \"m.lopez@pucp.edu.pe\", \"alejandro.boyco@pucp.edu.pe\", \"a20167070@pucp.edu.pe\", \"riega.stephy@pucp.edu.pe\", \"vlevanot@pucp.edu.pe\", \"sesquives@pucp.edu.pe\", \"perez.juanc@pucp.edu.pe\", \"mariana.otero@pucp.edu.pe\", \"aclavo@pucp.edu.pe\", \"a20182474@pucp.edu.pe\", \"josue.caldas@pucp.edu.pe\", \"fabio.salas@pucp.edu.pe\", \"fernanda.pizarro@pucp.edu.pe\", \"aquillatupa@pucp.pe\", \"\", \"\", \"\", \"\", \"\", \"f0873079@pucp.edu.pe\", \"\", \"\", \"\", \"\", \"\", \"\", \"\", \"\", \"\", \"\", \"flores.alexis@pucp.edu.pe\", ]"
   ]
  },
  {
   "cell_type": "markdown",
   "metadata": {},
   "source": [
    "a. Show the indices of the `np.nan`` values in the `f_list` list. We want to see this output: *The indices 1, 2, 5, 8 have np.nan values*. Hint: Use print function and f-strings to insert the indices values."
   ]
  },
  {
   "cell_type": "code",
   "execution_count": 81,
   "metadata": {},
   "outputs": [
    {
     "name": "stdout",
     "output_type": "stream",
     "text": [
      "1, 2, 5, 8 tienen valores np.nan.\n"
     ]
    }
   ],
   "source": [
    "# Show indices for np.nan values\n",
    "nan_indices = []\n",
    "\n",
    "#iterar sobre la lista y encontrar los índices de np.nan\n",
    "for i, value in enumerate(f_list):\n",
    "    if isinstance(value, float) and np.isnan(value):\n",
    "        nan_indices.append(i)\n",
    "\n",
    "indices_str = ', '.join(map(str, nan_indices))\n",
    "print(f\"{indices_str} tienen valores np.nan.\")\n"
   ]
  },
  {
   "cell_type": "markdown",
   "metadata": {},
   "source": [
    "b. Replicate 4 times the values of the list `p1_list`. We expect an ouput like this: [ 2 , 3, 4, 5, 2 , 3, 4, 5, 2 , 3, 4, 5, 2 , 3, 4, 5]. Hint: Use multiplication function in listsand see the output."
   ]
  },
  {
   "cell_type": "code",
   "execution_count": 82,
   "metadata": {},
   "outputs": [
    {
     "name": "stdout",
     "output_type": "stream",
     "text": [
      "[2, 3, 4, 5, 6, 2, 3, 4, 5, 6, 2, 3, 4, 5, 6, 2, 3, 4, 5, 6]\n"
     ]
    }
   ],
   "source": [
    "# Replicates p1_list\n",
    "replicated_list = p1_list * 4\n",
    "\n",
    "print(replicated_list)"
   ]
  },
  {
   "cell_type": "markdown",
   "metadata": {},
   "source": [
    "c. Print the length of `f_list`. **Hint: Length function**"
   ]
  },
  {
   "cell_type": "code",
   "execution_count": 83,
   "metadata": {},
   "outputs": [
    {
     "name": "stdout",
     "output_type": "stream",
     "text": [
      "9\n"
     ]
    }
   ],
   "source": [
    "# Lenngth of f_list\n",
    "length = len(f_list)\n",
    "print(length)\n"
   ]
  },
  {
   "cell_type": "markdown",
   "metadata": {},
   "source": [
    "d. Print `My new teacher assistant is so boring.` using `text1` list. **Hint: Use the [`join` function](https://stackoverflow.com/questions/493819/why-is-it-string-joinlist-instead-of-list-joinstring)**"
   ]
  },
  {
   "cell_type": "code",
   "execution_count": 84,
   "metadata": {},
   "outputs": [
    {
     "name": "stdout",
     "output_type": "stream",
     "text": [
      "My new teacher assistant is so boring.\n"
     ]
    }
   ],
   "source": [
    "# Printing\n",
    "sentence = ' '.join(text1)\n",
    "print(sentence)\n"
   ]
  },
  {
   "cell_type": "markdown",
   "metadata": {},
   "source": [
    "e. Using `values1`, print <br>\n",
    "`The max value of values1 is 86 and is located in the 0 index. ` <br>\n",
    "`The min value of values1 is 0 and is located in the 7 index. ` <br> **Hint: Use the `f-string`, `min`, and `max` functions.**\n",
    "<br>"
   ]
  },
  {
   "cell_type": "code",
   "execution_count": 85,
   "metadata": {},
   "outputs": [
    {
     "name": "stdout",
     "output_type": "stream",
     "text": [
      "The max value of values1 is 91 and is located in the 10 index.\n",
      "The min value of values1 is 0 and is located in the 7 index.\n"
     ]
    }
   ],
   "source": [
    "# Printing\n",
    "max_value = max(values1)\n",
    "max_index = values1.index(max_value)\n",
    "\n",
    "min_value = min(values1)\n",
    "min_index = values1.index(min_value)\n",
    "\n",
    "print(f\"The max value of values1 is {max_value} and is located in the {max_index} index.\")\n",
    "print(f\"The min value of values1 is {min_value} and is located in the {min_index} index.\")"
   ]
  },
  {
   "cell_type": "markdown",
   "metadata": {},
   "source": [
    "f. Get two lists: `given_names` and `last_names` using `last_and_name` list. **Hint: Use `map` and `split`.**"
   ]
  },
  {
   "cell_type": "code",
   "execution_count": 86,
   "metadata": {},
   "outputs": [
    {
     "name": "stdout",
     "output_type": "stream",
     "text": [
      "Given Names: ('CORNEJO', 'ORELLANA', 'MORALES', 'GUIMARAY', 'CAMACHO', 'TINTAYA', 'CHAVEZ', 'FIGUEROA', 'GOMEZ', 'PALOMINO', 'LUZON', 'SUAÑA', 'SOTO', 'FIORENTINO', 'LAMA', 'MEZA', 'LOZADA', 'ZAMBRANO', 'JACOBS', 'VIDAL', 'TORRES', 'LOPEZ', 'BOYCO', 'DIAZ', 'RIEGA', 'LEVANO', 'ESQUIVES', 'PEREZ', 'OTERO', 'CLAVO', 'AGUILAR', 'CALDAS', 'SALAS', 'PIZARRO', 'QUILLATUPA', 'HUANCAYA', 'CALVO', 'IBAÑEZ', 'MELÉNDEZ', 'CRISTIAN', 'HINOJOSA', 'ANGLAS', 'ALDAVE', 'NÚÑEZ', 'OBREGON', 'SOTO', 'INGARUCA', 'ROJAS', 'NEYRA', 'HUERTA', 'HUANCA', 'FLORES')\n",
      "Last Names: ('SANCHEZ, CHRISTIAN SANTOS', 'QUISPE, CRISTIAN NASSER', 'CHOQUEHUANCA, ANGELICA KARINA', 'RIBEYRO, JOSE ROBERTO', 'GAVIDIA, ABEL FERNANDO', 'ORIHUELA, MEIR ALVARO', 'MARTINEZ, JOSELIN ALEXANDRA', 'MURO, LEONEL ARTURO', 'CRIBILLERO, JOSE FELIPE', 'SEGUÍN, AFRANIA', 'CUEVA, BIANCA MARIETTE', 'ZEGARRA, ADRIAN ANDRE', 'POMACHAGUA, DORKAS YOMIRA JHERMY', 'MARTINEZ, LADY ALY', 'MAVILA, HECTOR ANDRE', 'HINOJO, GUSTAVO', 'MURILLO, PERSEO MARCELO', 'JIMENEZ, MIGUEL ALONZO', 'LUQUE, NICOLAS', 'VIDAL, ROCIO GABRIELA', 'ANICAMA, JANE CAMILA', 'ESTRADA, MARIA ELISA', 'ORAMS, ALEJANDRO', 'BERROSPI, KARLINE ROSMELI', 'ESCALANTE, STEPHY ROSARIO', 'TORRES, VALERIA CECILIA', 'BRAVO, SEBASTIAN RENATO', 'GONZALES, JUAN CARLOS', 'MAGUIÑA, MARIANA', 'CAMPOS, ANDREA BRIZETH', 'GARCIA, ERICK JOSUE', 'VELASQUEZ, JOSUE DANIEL', 'NUÑEZ BORJA, FABIO MANUEL', 'VILLANES, FERNANDA NICOLLE', 'MORALES, ANGELA ADELINA', 'IDONE, CESAR DANTE', 'PORTOCARRERO, GABRIELA ISABEL', 'ABANTO, ANGEL MAURICIO', 'APONTE, JUAN DIEGO', 'SERRANO, ARONE', 'CAHUANA, PERCY ALBERTH', 'GARCÍA, KEVIN ARTURO', 'ACOSTA, CESAR ERNESTO', 'HUAMÁN, CÉSAR AGUSTO', 'HUAMAN, DIANA EDITH', 'PACHERRES, RODRIGO FRANCO', 'RIVERA, GRETTEL ALEXANDRA', 'HUAMAN, ROSA ANGELA', 'SALAS, DANTE OMAR', 'ESPINOZA, YAJAIRA ALEXANDRA', 'MARTINEZ, JORGE ALBERTO', 'CADILLO, ALEXIS')\n"
     ]
    }
   ],
   "source": [
    "# Two lists\n",
    "given_names, last_names = zip(*(name.split(' ', 1) for name in last_and_name))\n",
    "\n",
    "print(\"Given Names:\", given_names)\n",
    "print(\"Last Names:\", last_names)"
   ]
  },
  {
   "cell_type": "markdown",
   "metadata": {},
   "source": [
    "g. (Opcional) Give only the last names of students who do not have email. Use the `emails` and `last_names` listt. **Hint: Use `map` and `split`.**"
   ]
  },
  {
   "cell_type": "code",
   "execution_count": 87,
   "metadata": {},
   "outputs": [
    {
     "name": "stdout",
     "output_type": "stream",
     "text": [
      "Last Names of Students without Email: []\n"
     ]
    }
   ],
   "source": [
    "# List of of those who do not have email\n",
    "\n",
    "# lista con los apellidos de los estudiantes que no tienen correo electrónico\n",
    "last_names_no_email = []\n",
    "\n",
    "# iterar sobre las listas 'emails' y 'last_names' al mismo tiempo\n",
    "for email, last_name in zip(emails, last_names):\n",
    "    # Verificar si el estudiante no tiene correo electrónico\n",
    "    if not email:\n",
    "        # Agregar el apellido a la lista 'last_names_no_email'\n",
    "        last_names_no_email.append(last_name)\n",
    "\n",
    "# Imprimir la lista de apellidos de estudiantes sin correo electrónico\n",
    "print(\"Last Names of Students without Email:\", last_names_no_email)\n"
   ]
  },
  {
   "cell_type": "markdown",
   "metadata": {},
   "source": [
    "# 4.   Tuple\n"
   ]
  },
  {
   "cell_type": "markdown",
   "metadata": {},
   "source": [
    "Considere la siguiente información como punto de partida y complete los espacios en blanco"
   ]
  },
  {
   "cell_type": "code",
   "execution_count": 38,
   "metadata": {},
   "outputs": [],
   "source": [
    "tuple1 = (\"Orange\", [10, 20, 30], (5, 15, 25))\n",
    "tuple2 = ([7, 8], [9, 1], [10, 7])"
   ]
  },
  {
   "cell_type": "markdown",
   "metadata": {},
   "source": [
    "1. Print the first item of the second item of tuple1 object"
   ]
  },
  {
   "cell_type": "code",
   "execution_count": 18,
   "metadata": {},
   "outputs": [
    {
     "name": "stdout",
     "output_type": "stream",
     "text": [
      "10\n"
     ]
    }
   ],
   "source": [
    "# Print\n",
    "print(tuple1[1][0])"
   ]
  },
  {
   "cell_type": "markdown",
   "metadata": {},
   "source": [
    "2. Print the last item of the tuple1 object"
   ]
  },
  {
   "cell_type": "code",
   "execution_count": 32,
   "metadata": {},
   "outputs": [
    {
     "name": "stdout",
     "output_type": "stream",
     "text": [
      "25\n"
     ]
    }
   ],
   "source": [
    "# Print\n",
    "print(tuple1[-1][-1])"
   ]
  },
  {
   "cell_type": "markdown",
   "metadata": {},
   "source": [
    "3. Change the value \"orange\" for \"pink grapefruit\". Comment the output"
   ]
  },
  {
   "cell_type": "code",
   "execution_count": 33,
   "metadata": {},
   "outputs": [
    {
     "data": {
      "text/plain": [
       "('pink grapefruit', [10, 20, 30], (5, 15, 25))"
      ]
     },
     "execution_count": 33,
     "metadata": {},
     "output_type": "execute_result"
    }
   ],
   "source": [
    "# Change value\n",
    "tuple1 = list(tuple1)\n",
    "tuple1[0] = \"pink grapefruit\"\n",
    "tuple1 = tuple(tuple1)\n",
    "tuple1\n",
    "\n",
    "#Las tuplas son inmutables, por lo que para modificar una, \n",
    "#debes convertirla en una lista, realizar los cambios y \n",
    "#luego convertirla nuevamente en una tupla."
   ]
  },
  {
   "cell_type": "markdown",
   "metadata": {},
   "source": [
    "4. Print the length of tuple1"
   ]
  },
  {
   "cell_type": "code",
   "execution_count": 34,
   "metadata": {},
   "outputs": [
    {
     "data": {
      "text/plain": [
       "3"
      ]
     },
     "execution_count": 34,
     "metadata": {},
     "output_type": "execute_result"
    }
   ],
   "source": [
    "# Print\n",
    "len(tuple1)"
   ]
  },
  {
   "cell_type": "markdown",
   "metadata": {},
   "source": [
    "5. Sum all the elements of tuple2 and describe your steps and explain each of them. Hint: Use map function.\n"
   ]
  },
  {
   "cell_type": "code",
   "execution_count": 42,
   "metadata": {},
   "outputs": [
    {
     "name": "stdout",
     "output_type": "stream",
     "text": [
      "(15, 10, 17)\n"
     ]
    }
   ],
   "source": [
    "tuple2 = list(tuple2)\n",
    "\n",
    "# use map and sum to get the sum of each sublist\n",
    "sums = tuple(map(sum, tuple2))\n",
    "\n",
    "# Step 3: Convert the result back to a tuple\n",
    "tuple2 = tuple(sums)\n",
    "\n",
    "# Print the result\n",
    "print(tuple2)"
   ]
  },
  {
   "cell_type": "markdown",
   "metadata": {},
   "source": [
    "6. (Opcional) Generate a new tuple object named as tuple3 with the half values of tuple2. This tuple should be similar as tuple2, tuple of lists. Hint: Use map funciont."
   ]
  },
  {
   "cell_type": "code",
   "execution_count": 43,
   "metadata": {},
   "outputs": [
    {
     "name": "stdout",
     "output_type": "stream",
     "text": [
      "([3, 4], [4, 0], [5, 3])\n"
     ]
    }
   ],
   "source": [
    "tuple2 = ([7, 8], [9, 1], [10, 7])\n",
    "\n",
    "# Use map to create tuple3 with half values\n",
    "tuple3 = tuple(map(lambda sublist: [x // 2 for x in sublist], tuple2))\n",
    "\n",
    "print(tuple3)"
   ]
  },
  {
   "cell_type": "markdown",
   "metadata": {},
   "source": [
    "# 5. Strings"
   ]
  },
  {
   "cell_type": "markdown",
   "metadata": {},
   "source": [
    "Considere la siguiente información como punto de partida y complete los espacios en blanco"
   ]
  },
  {
   "cell_type": "code",
   "execution_count": 75,
   "metadata": {},
   "outputs": [],
   "source": [
    "str1 = 'I am                            too                                                        old'\n",
    "emails = [\"cscornejo@pucp.edu.pe\", \"orellana.cn@pucp.edu.pe\", \"karina.morales@pucp.edu.pe\", \"a20083223@pucp.pe\", \"abel.camacho@pucp.pe\", \"mtintaya@pucp.edu.pe\", \"joselin.chavez@pucp.edu.pe\", \"a20105737@pucp.pe\", \"jfgomezc@pucp.pe\", \"afrania.palomino@pucp.pe\", \"luzon.bianca@pucp.pe\", \"adrian.suanaz@pucp.pe\", \"soto.y@pucp.edu.pe\", \"a20132766@pucp.pe\", \"andre.lama@pucp.edu.pe\", \"gustavo.meza@pucp.edu.pe\", \"pmlozada@pucp.edu.pe\", \"m.zambranoj@pucp.edu.pe\", \"nicolas.jacobs@pucp.edu.pe\", \"gvidal@pucp.edu.pe\", \"jane.torres@pucp.edu.pe\", \"m.lopez@pucp.edu.pe\", \"alejandro.boyco@pucp.edu.pe\", \"a20167070@pucp.edu.pe\", \"riega.stephy@pucp.edu.pe\", \"vlevanot@pucp.edu.pe\", \"sesquives@pucp.edu.pe\", \"perez.juanc@pucp.edu.pe\", \"mariana.otero@pucp.edu.pe\", \"aclavo@pucp.edu.pe\", \"a20182474@pucp.edu.pe\", \"josue.caldas@pucp.edu.pe\", \"fabio.salas@pucp.edu.pe\", \"fernanda.pizarro@pucp.edu.pe\", \"aquillatupa@pucp.pe\"]"
   ]
  },
  {
   "cell_type": "markdown",
   "metadata": {},
   "source": [
    "1. Drop the duplicated blank spaces in `str1`. Do not use the regular expresions. Do not use the code shown in class. Explain your steps.**Hint: Use `split` method and `join` function.**"
   ]
  },
  {
   "cell_type": "code",
   "execution_count": 76,
   "metadata": {},
   "outputs": [
    {
     "data": {
      "text/plain": [
       "'I am too old'"
      ]
     },
     "execution_count": 76,
     "metadata": {},
     "output_type": "execute_result"
    }
   ],
   "source": [
    "# Drop duplicated blank spaces\n",
    "words_list = str1.split()\n",
    "words_list = filter(lambda x: x.strip() != '', words_list)\n",
    "words_list = ' '.join(words_list)\n",
    "words_list"
   ]
  },
  {
   "cell_type": "code",
   "execution_count": null,
   "metadata": {},
   "outputs": [],
   "source": []
  },
  {
   "cell_type": "markdown",
   "metadata": {},
   "source": [
    "2. Get the number of letters in the string .**Hint: Use `len`function.**"
   ]
  },
  {
   "cell_type": "code",
   "execution_count": 77,
   "metadata": {},
   "outputs": [
    {
     "data": {
      "text/plain": [
       "9"
      ]
     },
     "execution_count": 77,
     "metadata": {},
     "output_type": "execute_result"
    }
   ],
   "source": [
    "# Number of letters\n",
    "words_list = str1.split()\n",
    "words_list = filter(lambda x: x.strip() != '', words_list)\n",
    "words_list = ''.join(words_list)\n",
    "words_list = len(words_list)\n",
    "words_list"
   ]
  },
  {
   "cell_type": "markdown",
   "metadata": {},
   "source": [
    "3. (Optional) Get the number of blank spaces (all of them) in the string .**Hint: Use `len`function.**"
   ]
  },
  {
   "cell_type": "code",
   "execution_count": 79,
   "metadata": {},
   "outputs": [
    {
     "name": "stdout",
     "output_type": "stream",
     "text": [
      "85\n"
     ]
    }
   ],
   "source": [
    "spaces = str1.count(' ')\n",
    "\n",
    "print(spaces)"
   ]
  },
  {
   "cell_type": "markdown",
   "metadata": {},
   "source": [
    "# 6. NumPy"
   ]
  },
  {
   "cell_type": "markdown",
   "metadata": {},
   "source": [
    "Considere la siguiente información como punto de partida y complete los espacios en blanco"
   ]
  },
  {
   "cell_type": "code",
   "execution_count": 53,
   "metadata": {},
   "outputs": [],
   "source": [
    "import numpy as np\n",
    "from scipy import stats"
   ]
  },
  {
   "cell_type": "code",
   "execution_count": 55,
   "metadata": {},
   "outputs": [
    {
     "data": {
      "text/plain": [
       "array([1, 7, 9, 2, 2, 3, 2, 0, 7, 8, 8, 9, 3, 2, 3, 6, 8, 7, 8, 3, 9, 8,\n",
       "       4, 8, 0, 0, 9, 0, 1, 0, 3, 3, 6, 3, 0, 6, 4, 3, 4, 6, 4, 3, 9, 3,\n",
       "       7, 8, 7, 8, 2, 0, 5, 9, 5, 7, 6, 0, 3, 9, 2, 4, 3, 1, 9, 3, 9, 0,\n",
       "       4, 4, 6, 6, 8, 9, 2, 1, 7, 9, 7, 1, 6, 9, 4, 4, 5, 6, 3, 1, 7, 6,\n",
       "       9, 0, 5, 4, 7, 0, 0, 5, 3, 2, 9, 0, 9, 2, 9, 8, 0, 0, 1, 9, 7, 7,\n",
       "       9, 8, 1, 2, 5, 9, 5, 7, 3, 4, 1, 4, 4, 6, 2, 0, 2, 6, 8, 6, 4, 4,\n",
       "       4, 6, 8, 9, 4, 8, 2, 8, 5, 7, 8, 2, 8, 6, 0, 6, 7, 7, 7, 5, 1, 0,\n",
       "       4, 2, 2, 8, 9, 4, 7, 8, 0, 1, 9, 0, 1, 6, 2, 8, 4, 4, 7, 5, 6, 6,\n",
       "       8, 8, 5, 3, 0, 4, 8, 5, 5, 4, 3, 6, 0, 1, 3, 4, 6, 2, 6, 4, 5, 5,\n",
       "       9, 0, 8, 0, 4, 9, 5, 6, 5, 8, 4, 3, 9, 3, 1, 4, 1, 7, 4, 1, 2, 1,\n",
       "       4, 5, 5, 0, 0, 3, 0, 2, 4, 0, 8, 2, 5, 0, 9, 5, 9, 5, 2, 1, 3, 2,\n",
       "       2, 0, 6, 4, 0, 4, 6, 7, 6, 2, 7, 5, 4, 5, 9, 7, 4, 8, 1, 6, 8, 9,\n",
       "       4, 0, 5, 4, 1, 0, 4, 4, 8, 7, 6, 7, 0, 4, 6, 2, 8, 2, 6, 8, 8, 9,\n",
       "       0, 3, 9, 1, 3, 9, 5, 1, 8, 5, 7, 4, 5, 3, 4, 8, 0, 2, 0, 2, 8, 8,\n",
       "       9, 0, 2, 1, 3, 4, 3, 7, 9, 6, 0, 3, 9, 3, 8, 9, 7, 6, 2, 9, 6, 8,\n",
       "       6, 0, 8, 4, 4, 4, 7, 1, 7, 7, 3, 2, 3, 4, 0, 7, 6, 0, 9, 3, 0, 5,\n",
       "       2, 6, 0, 3, 8, 1, 7, 2, 1, 0, 2, 0, 4, 2, 8, 3, 3, 4, 9, 1, 6, 9,\n",
       "       6, 9, 8, 6, 8, 4, 7, 0, 0, 8, 8, 9, 4, 7, 6, 4, 6, 4, 3, 3, 8, 8,\n",
       "       5, 2, 4, 2, 6, 1, 7, 5, 1, 1, 9, 3, 9, 0, 6, 1, 6, 1, 5, 7, 8, 1,\n",
       "       0, 7, 3, 5, 7, 3, 4, 8, 6, 1, 3, 2, 5, 5, 2, 0, 4, 4, 0, 4, 6, 4,\n",
       "       9, 6, 5, 1, 2, 9, 6, 7, 0, 9, 4, 8, 7, 0, 6, 2, 8, 7, 3, 6, 2, 4,\n",
       "       7, 5, 1, 6, 3, 6, 8, 3, 7, 8, 2, 1, 1, 4, 3, 1, 4, 6, 1, 3, 4, 6,\n",
       "       3, 4, 3, 7, 8, 0, 4, 5, 2, 3, 4, 4, 1, 5, 0, 4])"
      ]
     },
     "execution_count": 55,
     "metadata": {},
     "output_type": "execute_result"
    }
   ],
   "source": [
    "prueba1 = np.random.randint(0,10,500)\n",
    "prueba1\n"
   ]
  },
  {
   "cell_type": "code",
   "execution_count": 29,
   "metadata": {},
   "outputs": [
    {
     "data": {
      "text/plain": [
       "array([12, 38, 25, 41, 42, 39, 24, 45, 28, 18, 43, 49, 17, 15, 31, 44, 37,\n",
       "       47, 10, 34, 26,  9, 14,  4, 16,  7, 35, 46, 19,  5, 13, 21, 36, 20,\n",
       "        1,  3, 32,  2, 30, 22, 11, 23,  0, 33, 29,  6,  8, 40, 27, 48])"
      ]
     },
     "execution_count": 29,
     "metadata": {},
     "output_type": "execute_result"
    }
   ],
   "source": [
    "prueba2 = np.arange(50)\n",
    "np.random.shuffle(prueba2)\n",
    "prueba2"
   ]
  },
  {
   "cell_type": "markdown",
   "metadata": {},
   "source": [
    "a. Find the most frequent value in the prueba1 array?"
   ]
  },
  {
   "cell_type": "code",
   "execution_count": 48,
   "metadata": {},
   "outputs": [],
   "source": [
    "# Most frequent value"
   ]
  },
  {
   "cell_type": "code",
   "execution_count": 60,
   "metadata": {},
   "outputs": [
    {
     "data": {
      "text/plain": [
       "ModeResult(mode=4, count=69)"
      ]
     },
     "execution_count": 60,
     "metadata": {},
     "output_type": "execute_result"
    }
   ],
   "source": [
    "A = stats.mode(prueba1) #.mode[0]\n",
    "A"
   ]
  },
  {
   "cell_type": "markdown",
   "metadata": {},
   "source": [
    "b. Convert the 1D array prueba2 to a 2D array with 5 rows"
   ]
  },
  {
   "cell_type": "code",
   "execution_count": 61,
   "metadata": {},
   "outputs": [
    {
     "name": "stdout",
     "output_type": "stream",
     "text": [
      "Original 1D array:\n",
      "[ 5 38 29 15 10 48 25  8 33 32 36  9  4  3 49 44 17 19 31 46 24 14  0 23\n",
      " 16 18 45 39 28 37 11 43  1 13 26  7  2 47 42 30 12 21 20 41 34 27 35 22\n",
      "  6 40]\n",
      "\n",
      "Reshaped 2D array with 5 rows:\n",
      "[[ 5 38 29 15 10 48 25  8 33 32]\n",
      " [36  9  4  3 49 44 17 19 31 46]\n",
      " [24 14  0 23 16 18 45 39 28 37]\n",
      " [11 43  1 13 26  7  2 47 42 30]\n",
      " [12 21 20 41 34 27 35 22  6 40]]\n"
     ]
    }
   ],
   "source": [
    "# Reshape\n",
    "# Assuming you have the prueba2 array\n",
    "prueba2 = np.arange(50)\n",
    "np.random.shuffle(prueba2)\n",
    "\n",
    "# Reshape to a 2D array with 5 rows\n",
    "prueba2_2d = np.reshape(prueba2, (5, -1))\n",
    "\n",
    "print(\"Original 1D array:\")\n",
    "print(prueba2)\n",
    "print(\"\\nReshaped 2D array with 5 rows:\")\n",
    "print(prueba2_2d)\n"
   ]
  },
  {
   "cell_type": "code",
   "execution_count": null,
   "metadata": {},
   "outputs": [],
   "source": []
  }
 ],
 "metadata": {
  "hide_input": false,
  "kernelspec": {
   "display_name": "Python 3 (ipykernel)",
   "language": "python",
   "name": "python3"
  },
  "language_info": {
   "codemirror_mode": {
    "name": "ipython",
    "version": 3
   },
   "file_extension": ".py",
   "mimetype": "text/x-python",
   "name": "python",
   "nbconvert_exporter": "python",
   "pygments_lexer": "ipython3",
   "version": "3.9.13"
  },
  "toc": {
   "base_numbering": 1,
   "nav_menu": {},
   "number_sections": true,
   "sideBar": true,
   "skip_h1_title": false,
   "title_cell": "Table of Contents",
   "title_sidebar": "Contents",
   "toc_cell": false,
   "toc_position": {},
   "toc_section_display": true,
   "toc_window_display": false
  }
 },
 "nbformat": 4,
 "nbformat_minor": 4
}
